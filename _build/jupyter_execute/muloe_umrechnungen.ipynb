{
 "cells": [
  {
   "cell_type": "markdown",
   "metadata": {},
   "source": [
    "# Python Funktionen zum Umrechnen zwichen den Zahlensystemen"
   ]
  },
  {
   "cell_type": "markdown",
   "metadata": {},
   "source": [
    "Python stellt Funktionen zur Verfügung, mit deren Hilfe Zahlen zwischen den\n",
    "verschiedenen Zahlensystemen umgerechnet werden können. Trotzdem sollen in\n",
    "diesem Notebook eigene Funktionen implementiert werden, mit deren Hilfe Zahlen\n",
    "zwischen dem Dezimal- und Binärsystem umgerechnet werden können.\n",
    "\n",
    "Ausserdem sollen Funktionen implementiert werden, mit welchen Strings in ihre\n",
    "binäre Repräsentation umgewandelt werden können und umgekehrt."
   ]
  },
  {
   "cell_type": "markdown",
   "metadata": {},
   "source": [
    "## Umrechnung von Binär- in Dezimalzahlen"
   ]
  },
  {
   "cell_type": "code",
   "execution_count": 1,
   "metadata": {},
   "outputs": [],
   "source": [
    "def bin2dec(binary: str) -> int:\n",
    "    decimal = 0\n",
    "    length = len(binary)\n",
    "    \n",
    "    for i in range(1, length + 1):\n",
    "        decimal += int(binary[-i]) * 2 ** (i-1)\n",
    "        \n",
    "    return decimal\n",
    "        "
   ]
  },
  {
   "cell_type": "markdown",
   "metadata": {},
   "source": [
    "## Umrechnung von Dezimal- in Binärzahlen"
   ]
  },
  {
   "cell_type": "code",
   "execution_count": 2,
   "metadata": {},
   "outputs": [],
   "source": [
    "def dec2bin(decimal: int) -> str:\n",
    "    binary = ''\n",
    "    while decimal > 0:\n",
    "        binary = str(decimal % 2) + binary\n",
    "        decimal = decimal // 2\n",
    "        \n",
    "    return binary"
   ]
  },
  {
   "cell_type": "markdown",
   "metadata": {},
   "source": [
    "## Binäre Repräsentation von Strings"
   ]
  },
  {
   "cell_type": "markdown",
   "metadata": {},
   "source": [
    "Für die Darstellung eines Strings in binärer Form wird auf die dezimale \n",
    "Repräsentation des Unicode-Zeichens zurückgegriffen. Dazu stellt Python die\n",
    "Funktion `ord()` zur Verfügung. Diese Funktion gibt die dezimale Repräsentation\n",
    "eines Unicode-Zeichens zurück."
   ]
  },
  {
   "cell_type": "code",
   "execution_count": 3,
   "metadata": {
    "editable": true,
    "slideshow": {
     "slide_type": ""
    },
    "tags": [
     "hide-input"
    ]
   },
   "outputs": [],
   "source": [
    "def str2bin(s: str) -> str:\n",
    "    length = len(s)\n",
    "    binary = ''\n",
    "    for i in range(length):\n",
    "        c = s[i]\n",
    "        u10 = ord(c)\n",
    "        b = dec2bin(u10)\n",
    "        length = len(b)\n",
    "        if i % 5 == 0 and i != 0:\n",
    "            binary += '\\n'\n",
    "        b = '0' * (8 - length) + b\n",
    "        binary += b + ' '\n",
    "    return binary.strip()"
   ]
  },
  {
   "cell_type": "markdown",
   "metadata": {},
   "source": [
    "## Umwandlung der binären Repräsentation in einen String"
   ]
  },
  {
   "cell_type": "markdown",
   "metadata": {},
   "source": [
    "Um aus der dezimalen Repräsentation eines Unicode-Zeichens wieder den\n",
    "entsprechenden String zu erhalten, stellt Python die Funktion `chr()` zur\n",
    "Verfügung. "
   ]
  },
  {
   "cell_type": "code",
   "execution_count": 4,
   "metadata": {},
   "outputs": [],
   "source": [
    "def bin2str(binary: str) -> str:\n",
    "    binary = binary.replace(' ', '')\n",
    "    binary = binary.replace('\\n', '')\n",
    "    length = len(binary)\n",
    "    s = ''\n",
    "    for i in range(0, length, 8):\n",
    "        b = binary[i:i+8]\n",
    "        u10 = bin2dec(b)\n",
    "        c = chr(u10)\n",
    "        s += c\n",
    "    return s"
   ]
  },
  {
   "cell_type": "markdown",
   "metadata": {},
   "source": [
    "<a target=\"_blank\" href=\"https://colab.research.google.com/github/SkriptenMk/Testskript/blob/main/muloe_umrechnungen.ipynb\">\n",
    "  <img src=\"https://colab.research.google.com/assets/colab-badge.svg\" alt=\"Open In Colab\"/>\n",
    "</a>"
   ]
  }
 ],
 "metadata": {
  "kernelspec": {
   "display_name": "Python 3 (ipykernel)",
   "language": "python",
   "name": "python3"
  },
  "language_info": {
   "codemirror_mode": {
    "name": "ipython",
    "version": 3
   },
   "file_extension": ".py",
   "mimetype": "text/x-python",
   "name": "python",
   "nbconvert_exporter": "python",
   "pygments_lexer": "ipython3",
   "version": "3.13.1"
  },
  "widgets": {
   "application/vnd.jupyter.widget-state+json": {
    "state": {},
    "version_major": 2,
    "version_minor": 0
   }
  }
 },
 "nbformat": 4,
 "nbformat_minor": 4
}